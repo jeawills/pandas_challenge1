{
 "cells": [
  {
   "cell_type": "code",
   "execution_count": 2,
   "metadata": {},
   "outputs": [],
   "source": [
    "# Dependencies\n",
    "import pandas as pd"
   ]
  },
  {
   "cell_type": "code",
   "execution_count": 3,
   "metadata": {},
   "outputs": [
    {
     "ename": "FileNotFoundError",
     "evalue": "[Errno 2] File Pandas_challenge\\Project\\Resources\\Survey-Data1.csv does not exist: 'Pandas_challenge\\\\Project\\\\Resources\\\\Survey-Data1.csv'",
     "output_type": "error",
     "traceback": [
      "\u001b[1;31m---------------------------------------------------------------------------\u001b[0m",
      "\u001b[1;31mFileNotFoundError\u001b[0m                         Traceback (most recent call last)",
      "\u001b[1;32m<ipython-input-3-4a7e77b3b2c0>\u001b[0m in \u001b[0;36m<module>\u001b[1;34m\u001b[0m\n\u001b[0;32m      2\u001b[0m \u001b[1;33m\u001b[0m\u001b[0m\n\u001b[0;32m      3\u001b[0m \u001b[1;31m# Read Purchasing File and store into Pandas data frame\u001b[0m\u001b[1;33m\u001b[0m\u001b[1;33m\u001b[0m\u001b[1;33m\u001b[0m\u001b[0m\n\u001b[1;32m----> 4\u001b[1;33m \u001b[0msurveydata_df\u001b[0m \u001b[1;33m=\u001b[0m \u001b[0mpd\u001b[0m\u001b[1;33m.\u001b[0m\u001b[0mread_csv\u001b[0m\u001b[1;33m(\u001b[0m\u001b[0mfile_to_load\u001b[0m\u001b[1;33m)\u001b[0m\u001b[1;33m\u001b[0m\u001b[1;33m\u001b[0m\u001b[0m\n\u001b[0m\u001b[0;32m      5\u001b[0m \u001b[0msurveydata_df\u001b[0m\u001b[1;33m.\u001b[0m\u001b[0mhead\u001b[0m\u001b[1;33m(\u001b[0m\u001b[1;33m)\u001b[0m\u001b[1;33m\u001b[0m\u001b[1;33m\u001b[0m\u001b[0m\n",
      "\u001b[1;32m~\\anaconda3\\lib\\site-packages\\pandas\\io\\parsers.py\u001b[0m in \u001b[0;36mparser_f\u001b[1;34m(filepath_or_buffer, sep, delimiter, header, names, index_col, usecols, squeeze, prefix, mangle_dupe_cols, dtype, engine, converters, true_values, false_values, skipinitialspace, skiprows, skipfooter, nrows, na_values, keep_default_na, na_filter, verbose, skip_blank_lines, parse_dates, infer_datetime_format, keep_date_col, date_parser, dayfirst, cache_dates, iterator, chunksize, compression, thousands, decimal, lineterminator, quotechar, quoting, doublequote, escapechar, comment, encoding, dialect, error_bad_lines, warn_bad_lines, delim_whitespace, low_memory, memory_map, float_precision)\u001b[0m\n\u001b[0;32m    674\u001b[0m         )\n\u001b[0;32m    675\u001b[0m \u001b[1;33m\u001b[0m\u001b[0m\n\u001b[1;32m--> 676\u001b[1;33m         \u001b[1;32mreturn\u001b[0m \u001b[0m_read\u001b[0m\u001b[1;33m(\u001b[0m\u001b[0mfilepath_or_buffer\u001b[0m\u001b[1;33m,\u001b[0m \u001b[0mkwds\u001b[0m\u001b[1;33m)\u001b[0m\u001b[1;33m\u001b[0m\u001b[1;33m\u001b[0m\u001b[0m\n\u001b[0m\u001b[0;32m    677\u001b[0m \u001b[1;33m\u001b[0m\u001b[0m\n\u001b[0;32m    678\u001b[0m     \u001b[0mparser_f\u001b[0m\u001b[1;33m.\u001b[0m\u001b[0m__name__\u001b[0m \u001b[1;33m=\u001b[0m \u001b[0mname\u001b[0m\u001b[1;33m\u001b[0m\u001b[1;33m\u001b[0m\u001b[0m\n",
      "\u001b[1;32m~\\anaconda3\\lib\\site-packages\\pandas\\io\\parsers.py\u001b[0m in \u001b[0;36m_read\u001b[1;34m(filepath_or_buffer, kwds)\u001b[0m\n\u001b[0;32m    446\u001b[0m \u001b[1;33m\u001b[0m\u001b[0m\n\u001b[0;32m    447\u001b[0m     \u001b[1;31m# Create the parser.\u001b[0m\u001b[1;33m\u001b[0m\u001b[1;33m\u001b[0m\u001b[1;33m\u001b[0m\u001b[0m\n\u001b[1;32m--> 448\u001b[1;33m     \u001b[0mparser\u001b[0m \u001b[1;33m=\u001b[0m \u001b[0mTextFileReader\u001b[0m\u001b[1;33m(\u001b[0m\u001b[0mfp_or_buf\u001b[0m\u001b[1;33m,\u001b[0m \u001b[1;33m**\u001b[0m\u001b[0mkwds\u001b[0m\u001b[1;33m)\u001b[0m\u001b[1;33m\u001b[0m\u001b[1;33m\u001b[0m\u001b[0m\n\u001b[0m\u001b[0;32m    449\u001b[0m \u001b[1;33m\u001b[0m\u001b[0m\n\u001b[0;32m    450\u001b[0m     \u001b[1;32mif\u001b[0m \u001b[0mchunksize\u001b[0m \u001b[1;32mor\u001b[0m \u001b[0miterator\u001b[0m\u001b[1;33m:\u001b[0m\u001b[1;33m\u001b[0m\u001b[1;33m\u001b[0m\u001b[0m\n",
      "\u001b[1;32m~\\anaconda3\\lib\\site-packages\\pandas\\io\\parsers.py\u001b[0m in \u001b[0;36m__init__\u001b[1;34m(self, f, engine, **kwds)\u001b[0m\n\u001b[0;32m    878\u001b[0m             \u001b[0mself\u001b[0m\u001b[1;33m.\u001b[0m\u001b[0moptions\u001b[0m\u001b[1;33m[\u001b[0m\u001b[1;34m\"has_index_names\"\u001b[0m\u001b[1;33m]\u001b[0m \u001b[1;33m=\u001b[0m \u001b[0mkwds\u001b[0m\u001b[1;33m[\u001b[0m\u001b[1;34m\"has_index_names\"\u001b[0m\u001b[1;33m]\u001b[0m\u001b[1;33m\u001b[0m\u001b[1;33m\u001b[0m\u001b[0m\n\u001b[0;32m    879\u001b[0m \u001b[1;33m\u001b[0m\u001b[0m\n\u001b[1;32m--> 880\u001b[1;33m         \u001b[0mself\u001b[0m\u001b[1;33m.\u001b[0m\u001b[0m_make_engine\u001b[0m\u001b[1;33m(\u001b[0m\u001b[0mself\u001b[0m\u001b[1;33m.\u001b[0m\u001b[0mengine\u001b[0m\u001b[1;33m)\u001b[0m\u001b[1;33m\u001b[0m\u001b[1;33m\u001b[0m\u001b[0m\n\u001b[0m\u001b[0;32m    881\u001b[0m \u001b[1;33m\u001b[0m\u001b[0m\n\u001b[0;32m    882\u001b[0m     \u001b[1;32mdef\u001b[0m \u001b[0mclose\u001b[0m\u001b[1;33m(\u001b[0m\u001b[0mself\u001b[0m\u001b[1;33m)\u001b[0m\u001b[1;33m:\u001b[0m\u001b[1;33m\u001b[0m\u001b[1;33m\u001b[0m\u001b[0m\n",
      "\u001b[1;32m~\\anaconda3\\lib\\site-packages\\pandas\\io\\parsers.py\u001b[0m in \u001b[0;36m_make_engine\u001b[1;34m(self, engine)\u001b[0m\n\u001b[0;32m   1112\u001b[0m     \u001b[1;32mdef\u001b[0m \u001b[0m_make_engine\u001b[0m\u001b[1;33m(\u001b[0m\u001b[0mself\u001b[0m\u001b[1;33m,\u001b[0m \u001b[0mengine\u001b[0m\u001b[1;33m=\u001b[0m\u001b[1;34m\"c\"\u001b[0m\u001b[1;33m)\u001b[0m\u001b[1;33m:\u001b[0m\u001b[1;33m\u001b[0m\u001b[1;33m\u001b[0m\u001b[0m\n\u001b[0;32m   1113\u001b[0m         \u001b[1;32mif\u001b[0m \u001b[0mengine\u001b[0m \u001b[1;33m==\u001b[0m \u001b[1;34m\"c\"\u001b[0m\u001b[1;33m:\u001b[0m\u001b[1;33m\u001b[0m\u001b[1;33m\u001b[0m\u001b[0m\n\u001b[1;32m-> 1114\u001b[1;33m             \u001b[0mself\u001b[0m\u001b[1;33m.\u001b[0m\u001b[0m_engine\u001b[0m \u001b[1;33m=\u001b[0m \u001b[0mCParserWrapper\u001b[0m\u001b[1;33m(\u001b[0m\u001b[0mself\u001b[0m\u001b[1;33m.\u001b[0m\u001b[0mf\u001b[0m\u001b[1;33m,\u001b[0m \u001b[1;33m**\u001b[0m\u001b[0mself\u001b[0m\u001b[1;33m.\u001b[0m\u001b[0moptions\u001b[0m\u001b[1;33m)\u001b[0m\u001b[1;33m\u001b[0m\u001b[1;33m\u001b[0m\u001b[0m\n\u001b[0m\u001b[0;32m   1115\u001b[0m         \u001b[1;32melse\u001b[0m\u001b[1;33m:\u001b[0m\u001b[1;33m\u001b[0m\u001b[1;33m\u001b[0m\u001b[0m\n\u001b[0;32m   1116\u001b[0m             \u001b[1;32mif\u001b[0m \u001b[0mengine\u001b[0m \u001b[1;33m==\u001b[0m \u001b[1;34m\"python\"\u001b[0m\u001b[1;33m:\u001b[0m\u001b[1;33m\u001b[0m\u001b[1;33m\u001b[0m\u001b[0m\n",
      "\u001b[1;32m~\\anaconda3\\lib\\site-packages\\pandas\\io\\parsers.py\u001b[0m in \u001b[0;36m__init__\u001b[1;34m(self, src, **kwds)\u001b[0m\n\u001b[0;32m   1889\u001b[0m         \u001b[0mkwds\u001b[0m\u001b[1;33m[\u001b[0m\u001b[1;34m\"usecols\"\u001b[0m\u001b[1;33m]\u001b[0m \u001b[1;33m=\u001b[0m \u001b[0mself\u001b[0m\u001b[1;33m.\u001b[0m\u001b[0musecols\u001b[0m\u001b[1;33m\u001b[0m\u001b[1;33m\u001b[0m\u001b[0m\n\u001b[0;32m   1890\u001b[0m \u001b[1;33m\u001b[0m\u001b[0m\n\u001b[1;32m-> 1891\u001b[1;33m         \u001b[0mself\u001b[0m\u001b[1;33m.\u001b[0m\u001b[0m_reader\u001b[0m \u001b[1;33m=\u001b[0m \u001b[0mparsers\u001b[0m\u001b[1;33m.\u001b[0m\u001b[0mTextReader\u001b[0m\u001b[1;33m(\u001b[0m\u001b[0msrc\u001b[0m\u001b[1;33m,\u001b[0m \u001b[1;33m**\u001b[0m\u001b[0mkwds\u001b[0m\u001b[1;33m)\u001b[0m\u001b[1;33m\u001b[0m\u001b[1;33m\u001b[0m\u001b[0m\n\u001b[0m\u001b[0;32m   1892\u001b[0m         \u001b[0mself\u001b[0m\u001b[1;33m.\u001b[0m\u001b[0munnamed_cols\u001b[0m \u001b[1;33m=\u001b[0m \u001b[0mself\u001b[0m\u001b[1;33m.\u001b[0m\u001b[0m_reader\u001b[0m\u001b[1;33m.\u001b[0m\u001b[0munnamed_cols\u001b[0m\u001b[1;33m\u001b[0m\u001b[1;33m\u001b[0m\u001b[0m\n\u001b[0;32m   1893\u001b[0m \u001b[1;33m\u001b[0m\u001b[0m\n",
      "\u001b[1;32mpandas\\_libs\\parsers.pyx\u001b[0m in \u001b[0;36mpandas._libs.parsers.TextReader.__cinit__\u001b[1;34m()\u001b[0m\n",
      "\u001b[1;32mpandas\\_libs\\parsers.pyx\u001b[0m in \u001b[0;36mpandas._libs.parsers.TextReader._setup_parser_source\u001b[1;34m()\u001b[0m\n",
      "\u001b[1;31mFileNotFoundError\u001b[0m: [Errno 2] File Pandas_challenge\\Project\\Resources\\Survey-Data1.csv does not exist: 'Pandas_challenge\\\\Project\\\\Resources\\\\Survey-Data1.csv'"
     ]
    }
   ],
   "source": [
    "file_to_load = \"Pandas_challenge\\Project\\Resources\\Survey-Data1.csv\"\n",
    "\n",
    "# Read Purchasing File and store into Pandas data frame\n",
    "surveydata_df = pd.read_csv(file_to_load)\n",
    "surveydata_df.head()"
   ]
  },
  {
   "cell_type": "code",
   "execution_count": 84,
   "metadata": {
    "scrolled": true
   },
   "outputs": [
    {
     "data": {
      "text/plain": [
       "Index(['Age', 'AttendedBootcamp', 'BootcampFinish', 'BootcampFullJobAfter',\n",
       "       'BootcampLoanYesNo', 'BootcampMonthsAgo', 'BootcampName',\n",
       "       'BootcampPostSalary', 'BootcampRecommend', 'ChildrenNumber',\n",
       "       ...\n",
       "       'ResourceSoloLearn', 'ResourceStackOverflow', 'ResourceTreehouse',\n",
       "       'ResourceUdacity', 'ResourceUdemy', 'ResourceW3Schools',\n",
       "       'ResourceYouTube', 'SchoolDegree', 'SchoolMajor', 'StudentDebtOwe'],\n",
       "      dtype='object', length=113)"
      ]
     },
     "execution_count": 84,
     "metadata": {},
     "output_type": "execute_result"
    }
   ],
   "source": [
    "# Inspect all columns\n",
    "surveydata_df.columns"
   ]
  },
  {
   "cell_type": "code",
   "execution_count": 85,
   "metadata": {
    "scrolled": true
   },
   "outputs": [
    {
     "data": {
      "text/html": [
       "<div>\n",
       "<style scoped>\n",
       "    .dataframe tbody tr th:only-of-type {\n",
       "        vertical-align: middle;\n",
       "    }\n",
       "\n",
       "    .dataframe tbody tr th {\n",
       "        vertical-align: top;\n",
       "    }\n",
       "\n",
       "    .dataframe thead th {\n",
       "        text-align: right;\n",
       "    }\n",
       "</style>\n",
       "<table border=\"1\" class=\"dataframe\">\n",
       "  <thead>\n",
       "    <tr style=\"text-align: right;\">\n",
       "      <th></th>\n",
       "      <th>Age</th>\n",
       "      <th>AttendedBootcamp</th>\n",
       "      <th>BootcampFinish</th>\n",
       "      <th>BootcampFullJobAfter</th>\n",
       "      <th>BootcampLoanYesNo</th>\n",
       "      <th>BootcampPostSalary</th>\n",
       "      <th>BootcampRecommend</th>\n",
       "      <th>ChildrenNumber</th>\n",
       "      <th>CityPopulation</th>\n",
       "      <th>CodeEventBootcamp</th>\n",
       "      <th>CountryLive</th>\n",
       "      <th>EmploymentField</th>\n",
       "      <th>EmploymentStatus</th>\n",
       "      <th>Gender</th>\n",
       "      <th>HasChildren</th>\n",
       "      <th>HoursLearning</th>\n",
       "      <th>Income</th>\n",
       "      <th>JobRoleInterest</th>\n",
       "      <th>SchoolDegree</th>\n",
       "      <th>SchoolMajor</th>\n",
       "    </tr>\n",
       "  </thead>\n",
       "  <tbody>\n",
       "    <tr>\n",
       "      <th>0</th>\n",
       "      <td>28.0</td>\n",
       "      <td>0.0</td>\n",
       "      <td>NaN</td>\n",
       "      <td>NaN</td>\n",
       "      <td>NaN</td>\n",
       "      <td>NaN</td>\n",
       "      <td>NaN</td>\n",
       "      <td>NaN</td>\n",
       "      <td>between 100,000 and 1 million</td>\n",
       "      <td>NaN</td>\n",
       "      <td>United States of America</td>\n",
       "      <td>office and administrative support</td>\n",
       "      <td>Employed for wages</td>\n",
       "      <td>male</td>\n",
       "      <td>0.0</td>\n",
       "      <td>30.0</td>\n",
       "      <td>32000.0</td>\n",
       "      <td>NaN</td>\n",
       "      <td>some college credit, no degree</td>\n",
       "      <td>NaN</td>\n",
       "    </tr>\n",
       "    <tr>\n",
       "      <th>1</th>\n",
       "      <td>22.0</td>\n",
       "      <td>0.0</td>\n",
       "      <td>NaN</td>\n",
       "      <td>NaN</td>\n",
       "      <td>NaN</td>\n",
       "      <td>NaN</td>\n",
       "      <td>NaN</td>\n",
       "      <td>NaN</td>\n",
       "      <td>between 100,000 and 1 million</td>\n",
       "      <td>NaN</td>\n",
       "      <td>United States of America</td>\n",
       "      <td>food and beverage</td>\n",
       "      <td>Employed for wages</td>\n",
       "      <td>male</td>\n",
       "      <td>NaN</td>\n",
       "      <td>30.0</td>\n",
       "      <td>15000.0</td>\n",
       "      <td>Front-End Web Developer</td>\n",
       "      <td>some college credit, no degree</td>\n",
       "      <td>NaN</td>\n",
       "    </tr>\n",
       "    <tr>\n",
       "      <th>2</th>\n",
       "      <td>19.0</td>\n",
       "      <td>0.0</td>\n",
       "      <td>NaN</td>\n",
       "      <td>NaN</td>\n",
       "      <td>NaN</td>\n",
       "      <td>NaN</td>\n",
       "      <td>NaN</td>\n",
       "      <td>NaN</td>\n",
       "      <td>more than 1 million</td>\n",
       "      <td>NaN</td>\n",
       "      <td>United States of America</td>\n",
       "      <td>finance</td>\n",
       "      <td>Employed for wages</td>\n",
       "      <td>male</td>\n",
       "      <td>NaN</td>\n",
       "      <td>20.0</td>\n",
       "      <td>48000.0</td>\n",
       "      <td>NaN</td>\n",
       "      <td>high school diploma or equivalent (GED)</td>\n",
       "      <td>NaN</td>\n",
       "    </tr>\n",
       "    <tr>\n",
       "      <th>3</th>\n",
       "      <td>26.0</td>\n",
       "      <td>0.0</td>\n",
       "      <td>NaN</td>\n",
       "      <td>NaN</td>\n",
       "      <td>NaN</td>\n",
       "      <td>NaN</td>\n",
       "      <td>NaN</td>\n",
       "      <td>NaN</td>\n",
       "      <td>more than 1 million</td>\n",
       "      <td>NaN</td>\n",
       "      <td>United States of America</td>\n",
       "      <td>arts, entertainment, sports, or media</td>\n",
       "      <td>Employed for wages</td>\n",
       "      <td>female</td>\n",
       "      <td>NaN</td>\n",
       "      <td>20.0</td>\n",
       "      <td>43000.0</td>\n",
       "      <td>Front-End Web Developer</td>\n",
       "      <td>bachelor's degree</td>\n",
       "      <td>Cinematography And Film</td>\n",
       "    </tr>\n",
       "    <tr>\n",
       "      <th>4</th>\n",
       "      <td>20.0</td>\n",
       "      <td>0.0</td>\n",
       "      <td>NaN</td>\n",
       "      <td>NaN</td>\n",
       "      <td>NaN</td>\n",
       "      <td>NaN</td>\n",
       "      <td>NaN</td>\n",
       "      <td>NaN</td>\n",
       "      <td>between 100,000 and 1 million</td>\n",
       "      <td>NaN</td>\n",
       "      <td>United States of America</td>\n",
       "      <td>education</td>\n",
       "      <td>Employed for wages</td>\n",
       "      <td>female</td>\n",
       "      <td>NaN</td>\n",
       "      <td>25.0</td>\n",
       "      <td>6000.0</td>\n",
       "      <td>Full-Stack Web Developer</td>\n",
       "      <td>some college credit, no degree</td>\n",
       "      <td>NaN</td>\n",
       "    </tr>\n",
       "    <tr>\n",
       "      <th>...</th>\n",
       "      <td>...</td>\n",
       "      <td>...</td>\n",
       "      <td>...</td>\n",
       "      <td>...</td>\n",
       "      <td>...</td>\n",
       "      <td>...</td>\n",
       "      <td>...</td>\n",
       "      <td>...</td>\n",
       "      <td>...</td>\n",
       "      <td>...</td>\n",
       "      <td>...</td>\n",
       "      <td>...</td>\n",
       "      <td>...</td>\n",
       "      <td>...</td>\n",
       "      <td>...</td>\n",
       "      <td>...</td>\n",
       "      <td>...</td>\n",
       "      <td>...</td>\n",
       "      <td>...</td>\n",
       "      <td>...</td>\n",
       "    </tr>\n",
       "    <tr>\n",
       "      <th>15615</th>\n",
       "      <td>39.0</td>\n",
       "      <td>0.0</td>\n",
       "      <td>NaN</td>\n",
       "      <td>NaN</td>\n",
       "      <td>NaN</td>\n",
       "      <td>NaN</td>\n",
       "      <td>NaN</td>\n",
       "      <td>NaN</td>\n",
       "      <td>more than 1 million</td>\n",
       "      <td>NaN</td>\n",
       "      <td>Kenya</td>\n",
       "      <td>software development and IT</td>\n",
       "      <td>Self-employed freelancer</td>\n",
       "      <td>male</td>\n",
       "      <td>0.0</td>\n",
       "      <td>40.0</td>\n",
       "      <td>10000.0</td>\n",
       "      <td>NaN</td>\n",
       "      <td>bachelor's degree</td>\n",
       "      <td>Chemistry</td>\n",
       "    </tr>\n",
       "    <tr>\n",
       "      <th>15616</th>\n",
       "      <td>27.0</td>\n",
       "      <td>0.0</td>\n",
       "      <td>NaN</td>\n",
       "      <td>NaN</td>\n",
       "      <td>NaN</td>\n",
       "      <td>NaN</td>\n",
       "      <td>NaN</td>\n",
       "      <td>NaN</td>\n",
       "      <td>more than 1 million</td>\n",
       "      <td>NaN</td>\n",
       "      <td>India</td>\n",
       "      <td>software development and IT</td>\n",
       "      <td>Employed for wages</td>\n",
       "      <td>male</td>\n",
       "      <td>0.0</td>\n",
       "      <td>15.0</td>\n",
       "      <td>10000.0</td>\n",
       "      <td>Front-End Web Developer</td>\n",
       "      <td>bachelor's degree</td>\n",
       "      <td>Electrical Engineering</td>\n",
       "    </tr>\n",
       "    <tr>\n",
       "      <th>15617</th>\n",
       "      <td>37.0</td>\n",
       "      <td>0.0</td>\n",
       "      <td>NaN</td>\n",
       "      <td>NaN</td>\n",
       "      <td>NaN</td>\n",
       "      <td>NaN</td>\n",
       "      <td>NaN</td>\n",
       "      <td>NaN</td>\n",
       "      <td>more than 1 million</td>\n",
       "      <td>NaN</td>\n",
       "      <td>Nigeria</td>\n",
       "      <td>NaN</td>\n",
       "      <td>Self-employed freelancer</td>\n",
       "      <td>male</td>\n",
       "      <td>NaN</td>\n",
       "      <td>14.0</td>\n",
       "      <td>48000.0</td>\n",
       "      <td>NaN</td>\n",
       "      <td>bachelor's degree</td>\n",
       "      <td>Chemistry</td>\n",
       "    </tr>\n",
       "    <tr>\n",
       "      <th>15618</th>\n",
       "      <td>26.0</td>\n",
       "      <td>0.0</td>\n",
       "      <td>NaN</td>\n",
       "      <td>NaN</td>\n",
       "      <td>NaN</td>\n",
       "      <td>NaN</td>\n",
       "      <td>NaN</td>\n",
       "      <td>NaN</td>\n",
       "      <td>more than 1 million</td>\n",
       "      <td>NaN</td>\n",
       "      <td>Spain</td>\n",
       "      <td>education</td>\n",
       "      <td>Self-employed freelancer</td>\n",
       "      <td>male</td>\n",
       "      <td>NaN</td>\n",
       "      <td>10.0</td>\n",
       "      <td>10000.0</td>\n",
       "      <td>NaN</td>\n",
       "      <td>master's degree (non-professional)</td>\n",
       "      <td>Math</td>\n",
       "    </tr>\n",
       "    <tr>\n",
       "      <th>15619</th>\n",
       "      <td>22.0</td>\n",
       "      <td>0.0</td>\n",
       "      <td>NaN</td>\n",
       "      <td>NaN</td>\n",
       "      <td>NaN</td>\n",
       "      <td>NaN</td>\n",
       "      <td>NaN</td>\n",
       "      <td>NaN</td>\n",
       "      <td>more than 1 million</td>\n",
       "      <td>NaN</td>\n",
       "      <td>United States of America</td>\n",
       "      <td>arts, entertainment, sports, or media</td>\n",
       "      <td>Employed for wages</td>\n",
       "      <td>female</td>\n",
       "      <td>0.0</td>\n",
       "      <td>2.0</td>\n",
       "      <td>18000.0</td>\n",
       "      <td>NaN</td>\n",
       "      <td>bachelor's degree</td>\n",
       "      <td>Graphic Design</td>\n",
       "    </tr>\n",
       "  </tbody>\n",
       "</table>\n",
       "<p>15620 rows × 20 columns</p>\n",
       "</div>"
      ],
      "text/plain": [
       "        Age  AttendedBootcamp  BootcampFinish  BootcampFullJobAfter  \\\n",
       "0      28.0               0.0             NaN                   NaN   \n",
       "1      22.0               0.0             NaN                   NaN   \n",
       "2      19.0               0.0             NaN                   NaN   \n",
       "3      26.0               0.0             NaN                   NaN   \n",
       "4      20.0               0.0             NaN                   NaN   \n",
       "...     ...               ...             ...                   ...   \n",
       "15615  39.0               0.0             NaN                   NaN   \n",
       "15616  27.0               0.0             NaN                   NaN   \n",
       "15617  37.0               0.0             NaN                   NaN   \n",
       "15618  26.0               0.0             NaN                   NaN   \n",
       "15619  22.0               0.0             NaN                   NaN   \n",
       "\n",
       "       BootcampLoanYesNo  BootcampPostSalary  BootcampRecommend  \\\n",
       "0                    NaN                 NaN                NaN   \n",
       "1                    NaN                 NaN                NaN   \n",
       "2                    NaN                 NaN                NaN   \n",
       "3                    NaN                 NaN                NaN   \n",
       "4                    NaN                 NaN                NaN   \n",
       "...                  ...                 ...                ...   \n",
       "15615                NaN                 NaN                NaN   \n",
       "15616                NaN                 NaN                NaN   \n",
       "15617                NaN                 NaN                NaN   \n",
       "15618                NaN                 NaN                NaN   \n",
       "15619                NaN                 NaN                NaN   \n",
       "\n",
       "       ChildrenNumber                 CityPopulation  CodeEventBootcamp  \\\n",
       "0                 NaN  between 100,000 and 1 million                NaN   \n",
       "1                 NaN  between 100,000 and 1 million                NaN   \n",
       "2                 NaN            more than 1 million                NaN   \n",
       "3                 NaN            more than 1 million                NaN   \n",
       "4                 NaN  between 100,000 and 1 million                NaN   \n",
       "...               ...                            ...                ...   \n",
       "15615             NaN            more than 1 million                NaN   \n",
       "15616             NaN            more than 1 million                NaN   \n",
       "15617             NaN            more than 1 million                NaN   \n",
       "15618             NaN            more than 1 million                NaN   \n",
       "15619             NaN            more than 1 million                NaN   \n",
       "\n",
       "                    CountryLive                        EmploymentField  \\\n",
       "0      United States of America      office and administrative support   \n",
       "1      United States of America                      food and beverage   \n",
       "2      United States of America                                finance   \n",
       "3      United States of America  arts, entertainment, sports, or media   \n",
       "4      United States of America                              education   \n",
       "...                         ...                                    ...   \n",
       "15615                     Kenya            software development and IT   \n",
       "15616                     India            software development and IT   \n",
       "15617                   Nigeria                                    NaN   \n",
       "15618                     Spain                              education   \n",
       "15619  United States of America  arts, entertainment, sports, or media   \n",
       "\n",
       "               EmploymentStatus  Gender  HasChildren  HoursLearning   Income  \\\n",
       "0            Employed for wages    male          0.0           30.0  32000.0   \n",
       "1            Employed for wages    male          NaN           30.0  15000.0   \n",
       "2            Employed for wages    male          NaN           20.0  48000.0   \n",
       "3            Employed for wages  female          NaN           20.0  43000.0   \n",
       "4            Employed for wages  female          NaN           25.0   6000.0   \n",
       "...                         ...     ...          ...            ...      ...   \n",
       "15615  Self-employed freelancer    male          0.0           40.0  10000.0   \n",
       "15616        Employed for wages    male          0.0           15.0  10000.0   \n",
       "15617  Self-employed freelancer    male          NaN           14.0  48000.0   \n",
       "15618  Self-employed freelancer    male          NaN           10.0  10000.0   \n",
       "15619        Employed for wages  female          0.0            2.0  18000.0   \n",
       "\n",
       "                 JobRoleInterest                             SchoolDegree  \\\n",
       "0                            NaN           some college credit, no degree   \n",
       "1        Front-End Web Developer           some college credit, no degree   \n",
       "2                            NaN  high school diploma or equivalent (GED)   \n",
       "3        Front-End Web Developer                        bachelor's degree   \n",
       "4       Full-Stack Web Developer           some college credit, no degree   \n",
       "...                          ...                                      ...   \n",
       "15615                        NaN                        bachelor's degree   \n",
       "15616    Front-End Web Developer                        bachelor's degree   \n",
       "15617                        NaN                        bachelor's degree   \n",
       "15618                        NaN       master's degree (non-professional)   \n",
       "15619                        NaN                        bachelor's degree   \n",
       "\n",
       "                   SchoolMajor  \n",
       "0                          NaN  \n",
       "1                          NaN  \n",
       "2                          NaN  \n",
       "3      Cinematography And Film  \n",
       "4                          NaN  \n",
       "...                        ...  \n",
       "15615                Chemistry  \n",
       "15616   Electrical Engineering  \n",
       "15617                Chemistry  \n",
       "15618                     Math  \n",
       "15619           Graphic Design  \n",
       "\n",
       "[15620 rows x 20 columns]"
      ]
     },
     "execution_count": 85,
     "metadata": {},
     "output_type": "execute_result"
    }
   ],
   "source": [
    "# Extract only columns 0, 1, 2, 3, 4, 7, 8, 9, 10,11, 29, 30, 32, 36, 37, 45, 48, 56, 110, 111\n",
    "newsurveydata = surveydata_df.iloc[:,[0, 1, 2, 3, 4, 7, 8, 9, 10,11, 29, 30, 32, 36, 37, 45, 48, 56, 110, 111]]\n",
    "newsurveydata"
   ]
  },
  {
   "cell_type": "code",
   "execution_count": 86,
   "metadata": {},
   "outputs": [
    {
     "name": "stderr",
     "output_type": "stream",
     "text": [
      "C:\\Users\\Jeawills\\anaconda3\\lib\\site-packages\\pandas\\core\\frame.py:4166: SettingWithCopyWarning: \n",
      "A value is trying to be set on a copy of a slice from a DataFrame\n",
      "\n",
      "See the caveats in the documentation: https://pandas.pydata.org/pandas-docs/stable/user_guide/indexing.html#returning-a-view-versus-a-copy\n",
      "  return super().replace(\n"
     ]
    }
   ],
   "source": [
    "# Change \"0\" to \"No\" and \"1\" to \"Yes\" in response columns\n",
    "newsurveydata.replace(to_replace = [0.0,1.0],value =['No','Yes'], inplace = True)\n",
    "#newsurveydata.tail()\n"
   ]
  },
  {
   "cell_type": "code",
   "execution_count": 87,
   "metadata": {},
   "outputs": [
    {
     "data": {
      "text/plain": [
       "(15620,\n",
       " Age                     13613\n",
       " AttendedBootcamp        15380\n",
       " BootcampFinish            933\n",
       " BootcampFullJobAfter      635\n",
       " BootcampLoanYesNo         934\n",
       " BootcampPostSalary        330\n",
       " BootcampRecommend         937\n",
       " ChildrenNumber           2554\n",
       " CityPopulation          13630\n",
       " CodeEventBootcamp          42\n",
       " CountryLive             13610\n",
       " EmploymentField          7608\n",
       " EmploymentStatus        12904\n",
       " Gender                  13746\n",
       " HasChildren              4012\n",
       " HoursLearning           14942\n",
       " Income                   7329\n",
       " JobRoleInterest          6503\n",
       " SchoolDegree            13679\n",
       " SchoolMajor              8450\n",
       " dtype: int64)"
      ]
     },
     "execution_count": 87,
     "metadata": {},
     "output_type": "execute_result"
    }
   ],
   "source": [
    "# Calculate total number of respondents in survey\n",
    "survey_respondents = len(newsurveydata) \n",
    "rowcount= newsurveydata.count()\n",
    "survey_respondents, rowcount"
   ]
  },
  {
   "cell_type": "code",
   "execution_count": 88,
   "metadata": {},
   "outputs": [
    {
     "data": {
      "text/html": [
       "<div>\n",
       "<style scoped>\n",
       "    .dataframe tbody tr th:only-of-type {\n",
       "        vertical-align: middle;\n",
       "    }\n",
       "\n",
       "    .dataframe tbody tr th {\n",
       "        vertical-align: top;\n",
       "    }\n",
       "\n",
       "    .dataframe thead th {\n",
       "        text-align: right;\n",
       "    }\n",
       "</style>\n",
       "<table border=\"1\" class=\"dataframe\">\n",
       "  <thead>\n",
       "    <tr style=\"text-align: right;\">\n",
       "      <th></th>\n",
       "      <th>Age</th>\n",
       "      <th>AttendedBootcamp</th>\n",
       "      <th>BootcampFinish</th>\n",
       "      <th>BootcampFullJobAfter</th>\n",
       "      <th>BootcampLoanYesNo</th>\n",
       "      <th>BootcampPostSalary</th>\n",
       "      <th>BootcampRecommend</th>\n",
       "      <th>ChildrenNumber</th>\n",
       "      <th>CityPopulation</th>\n",
       "      <th>CodeEventBootcamp</th>\n",
       "      <th>CountryLive</th>\n",
       "      <th>EmploymentField</th>\n",
       "      <th>EmploymentStatus</th>\n",
       "      <th>Gender</th>\n",
       "      <th>HasChildren</th>\n",
       "      <th>HoursLearning</th>\n",
       "      <th>Income</th>\n",
       "      <th>JobRoleInterest</th>\n",
       "      <th>SchoolDegree</th>\n",
       "      <th>SchoolMajor</th>\n",
       "    </tr>\n",
       "  </thead>\n",
       "  <tbody>\n",
       "    <tr>\n",
       "      <th>93</th>\n",
       "      <td>32.0</td>\n",
       "      <td>Yes</td>\n",
       "      <td>Yes</td>\n",
       "      <td>No</td>\n",
       "      <td>No</td>\n",
       "      <td>NaN</td>\n",
       "      <td>No</td>\n",
       "      <td>NaN</td>\n",
       "      <td>between 100,000 and 1 million</td>\n",
       "      <td>NaN</td>\n",
       "      <td>United States of America</td>\n",
       "      <td>arts, entertainment, sports, or media</td>\n",
       "      <td>Self-employed business owner</td>\n",
       "      <td>male</td>\n",
       "      <td>NaN</td>\n",
       "      <td>20</td>\n",
       "      <td>67000.0</td>\n",
       "      <td>NaN</td>\n",
       "      <td>bachelor's degree</td>\n",
       "      <td>Biology</td>\n",
       "    </tr>\n",
       "    <tr>\n",
       "      <th>97</th>\n",
       "      <td>26.0</td>\n",
       "      <td>Yes</td>\n",
       "      <td>Yes</td>\n",
       "      <td>Yes</td>\n",
       "      <td>No</td>\n",
       "      <td>45000.0</td>\n",
       "      <td>No</td>\n",
       "      <td>NaN</td>\n",
       "      <td>more than 1 million</td>\n",
       "      <td>NaN</td>\n",
       "      <td>United States of America</td>\n",
       "      <td>software development</td>\n",
       "      <td>Employed for wages</td>\n",
       "      <td>male</td>\n",
       "      <td>No</td>\n",
       "      <td>10</td>\n",
       "      <td>40000.0</td>\n",
       "      <td>NaN</td>\n",
       "      <td>master's degree (non-professional)</td>\n",
       "      <td>Music</td>\n",
       "    </tr>\n",
       "    <tr>\n",
       "      <th>130</th>\n",
       "      <td>41.0</td>\n",
       "      <td>Yes</td>\n",
       "      <td>Yes</td>\n",
       "      <td>Yes</td>\n",
       "      <td>Yes</td>\n",
       "      <td>75000.0</td>\n",
       "      <td>Yes</td>\n",
       "      <td>3</td>\n",
       "      <td>less than 100,000</td>\n",
       "      <td>NaN</td>\n",
       "      <td>United States of America</td>\n",
       "      <td>software development</td>\n",
       "      <td>Employed for wages</td>\n",
       "      <td>male</td>\n",
       "      <td>Yes</td>\n",
       "      <td>30</td>\n",
       "      <td>75000.0</td>\n",
       "      <td>NaN</td>\n",
       "      <td>some college credit, no degree</td>\n",
       "      <td>NaN</td>\n",
       "    </tr>\n",
       "    <tr>\n",
       "      <th>159</th>\n",
       "      <td>26.0</td>\n",
       "      <td>Yes</td>\n",
       "      <td>Yes</td>\n",
       "      <td>No</td>\n",
       "      <td>No</td>\n",
       "      <td>NaN</td>\n",
       "      <td>No</td>\n",
       "      <td>NaN</td>\n",
       "      <td>between 100,000 and 1 million</td>\n",
       "      <td>NaN</td>\n",
       "      <td>United States of America</td>\n",
       "      <td>NaN</td>\n",
       "      <td>Not working and not looking for work</td>\n",
       "      <td>female</td>\n",
       "      <td>NaN</td>\n",
       "      <td>30</td>\n",
       "      <td>NaN</td>\n",
       "      <td>Full-Stack Web Developer</td>\n",
       "      <td>some college credit, no degree</td>\n",
       "      <td>NaN</td>\n",
       "    </tr>\n",
       "    <tr>\n",
       "      <th>188</th>\n",
       "      <td>24.0</td>\n",
       "      <td>Yes</td>\n",
       "      <td>No</td>\n",
       "      <td>NaN</td>\n",
       "      <td>Yes</td>\n",
       "      <td>NaN</td>\n",
       "      <td>No</td>\n",
       "      <td>NaN</td>\n",
       "      <td>between 100,000 and 1 million</td>\n",
       "      <td>NaN</td>\n",
       "      <td>Canada</td>\n",
       "      <td>NaN</td>\n",
       "      <td>Not working but looking for work</td>\n",
       "      <td>female</td>\n",
       "      <td>NaN</td>\n",
       "      <td>60</td>\n",
       "      <td>NaN</td>\n",
       "      <td>NaN</td>\n",
       "      <td>some college credit, no degree</td>\n",
       "      <td>NaN</td>\n",
       "    </tr>\n",
       "  </tbody>\n",
       "</table>\n",
       "</div>"
      ],
      "text/plain": [
       "      Age AttendedBootcamp BootcampFinish BootcampFullJobAfter  \\\n",
       "93   32.0              Yes            Yes                   No   \n",
       "97   26.0              Yes            Yes                  Yes   \n",
       "130  41.0              Yes            Yes                  Yes   \n",
       "159  26.0              Yes            Yes                   No   \n",
       "188  24.0              Yes             No                  NaN   \n",
       "\n",
       "    BootcampLoanYesNo  BootcampPostSalary BootcampRecommend ChildrenNumber  \\\n",
       "93                 No                 NaN                No            NaN   \n",
       "97                 No             45000.0                No            NaN   \n",
       "130               Yes             75000.0               Yes              3   \n",
       "159                No                 NaN                No            NaN   \n",
       "188               Yes                 NaN                No            NaN   \n",
       "\n",
       "                    CityPopulation CodeEventBootcamp  \\\n",
       "93   between 100,000 and 1 million               NaN   \n",
       "97             more than 1 million               NaN   \n",
       "130              less than 100,000               NaN   \n",
       "159  between 100,000 and 1 million               NaN   \n",
       "188  between 100,000 and 1 million               NaN   \n",
       "\n",
       "                  CountryLive                        EmploymentField  \\\n",
       "93   United States of America  arts, entertainment, sports, or media   \n",
       "97   United States of America                   software development   \n",
       "130  United States of America                   software development   \n",
       "159  United States of America                                    NaN   \n",
       "188                    Canada                                    NaN   \n",
       "\n",
       "                         EmploymentStatus  Gender HasChildren HoursLearning  \\\n",
       "93           Self-employed business owner    male         NaN            20   \n",
       "97                     Employed for wages    male          No            10   \n",
       "130                    Employed for wages    male         Yes            30   \n",
       "159  Not working and not looking for work  female         NaN            30   \n",
       "188      Not working but looking for work  female         NaN            60   \n",
       "\n",
       "      Income           JobRoleInterest                        SchoolDegree  \\\n",
       "93   67000.0                       NaN                   bachelor's degree   \n",
       "97   40000.0                       NaN  master's degree (non-professional)   \n",
       "130  75000.0                       NaN      some college credit, no degree   \n",
       "159      NaN  Full-Stack Web Developer      some college credit, no degree   \n",
       "188      NaN                       NaN      some college credit, no degree   \n",
       "\n",
       "    SchoolMajor  \n",
       "93      Biology  \n",
       "97        Music  \n",
       "130         NaN  \n",
       "159         NaN  \n",
       "188         NaN  "
      ]
     },
     "execution_count": 88,
     "metadata": {},
     "output_type": "execute_result"
    }
   ],
   "source": [
    "# Extract rows corresponding only to people who attended a bootcamp\n",
    "bootcamp_attendants = newsurveydata.loc[(newsurveydata['AttendedBootcamp'] =='Yes')]\n",
    "bootcamp_attendants.head()\n"
   ]
  },
  {
   "cell_type": "code",
   "execution_count": 93,
   "metadata": {},
   "outputs": [
    {
     "data": {
      "text/plain": [
       "31.07"
      ]
     },
     "execution_count": 93,
     "metadata": {},
     "output_type": "execute_result"
    }
   ],
   "source": [
    "# Calculate average age of attendees\n",
    "aveage_age_of_attendees = round(bootcamp_attendants['Age'].mean(),2)\n",
    "#aveage_age_of_attendees.round(decimals=0)\n",
    "aveage_age_of_attendees\n",
    "\n"
   ]
  },
  {
   "cell_type": "code",
   "execution_count": 110,
   "metadata": {},
   "outputs": [
    {
     "data": {
      "text/plain": [
       "953"
      ]
     },
     "execution_count": 110,
     "metadata": {},
     "output_type": "execute_result"
    }
   ],
   "source": [
    "# Calculate how many people attended a bootcamp\n",
    "len(bootcamp_attendants)\n"
   ]
  },
  {
   "cell_type": "code",
   "execution_count": 120,
   "metadata": {},
   "outputs": [
    {
     "data": {
      "text/plain": [
       "637"
      ]
     },
     "execution_count": 120,
     "metadata": {},
     "output_type": "execute_result"
    }
   ],
   "source": [
    "# Calculate how many attendees hold degrees\n",
    "attendants_with_degrees = bootcamp_attendants.loc[(bootcamp_attendants[\"SchoolDegree\"] == \"bachelor's degree\")|(bootcamp_attendants[\"SchoolDegree\"] == \"master's degree (non-professional)\")|(bootcamp_attendants[\"SchoolDegree\"] == \"Ph.D.\")|(bootcamp_attendants[\"SchoolDegree\"] == \"professional degree (MBA, MD, JD, etc.)\")|(bootcamp_attendants[\"SchoolDegree\"] == \"associate's degree\")].count()[\"AttendedBootcamp\"]\n",
    "#attendants_with_degrees = bootcamp_attendants.loc[(bootcamp_attendants[\"SchoolDegree\"] == \"bachelor's degree\")|(bootcamp_attendants[\"SchoolDegree\"] == \"master's degree (non-professional)\")|(bootcamp_attendants[\"SchoolDegree\"] == \"Ph.D\")|(bootcamp_attendants[\"SchoolDegree\"] == \"non-professional (MBA, MD, JD, etc.)\")|(bootcamp_attendants[\"SchoolDegree\"] == \"associate degree\")].count()[\"Income\"]\n",
    "attendants_with_degrees"
   ]
  },
  {
   "cell_type": "code",
   "execution_count": 121,
   "metadata": {},
   "outputs": [
    {
     "name": "stdout",
     "output_type": "stream",
     "text": [
      "496 326 11\n"
     ]
    }
   ],
   "source": [
    "# Count number of attendees who self-identify as male; female; or are of non-binary gender identification\n",
    "male = bootcamp_attendants.loc[bootcamp_attendants[\"Gender\"] == \"male\",\"AttendedBootcamp\"].count()\n",
    "female = bootcamp_attendants.loc[bootcamp_attendants[\"Gender\"] == \"female\",\"AttendedBootcamp\"].count()\n",
    "non_binary = bootcamp_attendants['Gender'].count() - male - female\n",
    "print(male, female, non_binary)"
   ]
  },
  {
   "cell_type": "code",
   "execution_count": 134,
   "metadata": {},
   "outputs": [
    {
     "data": {
      "text/plain": [
       "6.1"
      ]
     },
     "execution_count": 134,
     "metadata": {},
     "output_type": "execute_result"
    }
   ],
   "source": [
    "# Calculate percentage of respondents who attended a bootcamp\n",
    "#percentage_of_respondants_atteneded = attendant/respondants* 100\n",
    "survey_respondents = len(newsurveydata)\n",
    "bootcampattendants = len(bootcamp_attendants) \n",
    "#bootcamp['AttendedBootcamp'].count()\n",
    "percentage_of_respondants_atteneded = round(bootcampattendants / survey_respondents * 100,2)\n",
    "percentage_of_respondants_atteneded"
   ]
  },
  {
   "cell_type": "markdown",
   "metadata": {},
   "source": [
    "# Calculate percentage of respondents who attended a bootcamp\n",
    "#percentage_of_respondants_atteneded = attendant/respondants* 100\n",
    "survey_respondents1 = newsurveydata.count()\n",
    "bootcampattendants1 = bootcamp_attendants.count()\n",
    "percentage_of_respondants_atteneded = bootcampattendants / survey_respondents * 100)\n",
    "percentage_of_respondants_atteneded"
   ]
  },
  {
   "cell_type": "code",
   "execution_count": 153,
   "metadata": {},
   "outputs": [
    {
     "data": {
      "text/plain": [
       "Gender\n",
       "agender          2\n",
       "female         326\n",
       "genderqueer      6\n",
       "male           496\n",
       "trans            3\n",
       "Name: AttendedBootcamp, dtype: int64"
      ]
     },
     "execution_count": 153,
     "metadata": {},
     "output_type": "execute_result"
    }
   ],
   "source": [
    "# Calculate percesentage of respondent belonging to each gender \n",
    "gender_group = bootcamp_attendants.groupby(\"Gender\").count()[\"AttendedBootcamp\"]\n",
    "gender_group"
   ]
  },
  {
   "cell_type": "code",
   "execution_count": 167,
   "metadata": {},
   "outputs": [
    {
     "data": {
      "text/plain": [
       "Gender\n",
       "agender         0.240096\n",
       "female         39.135654\n",
       "genderqueer     0.720288\n",
       "male           59.543818\n",
       "trans           0.360144\n",
       "Name: AttendedBootcamp, dtype: float64"
      ]
     },
     "execution_count": 167,
     "metadata": {},
     "output_type": "execute_result"
    }
   ],
   "source": [
    "# Calculate percesentage of respondent belonging to each gender\n",
    "total_gender = bootcamp_attendants_df[\"Gender\"].count()\n",
    "gender_percent = gender_group/total_gender*100\n",
    "gender_percent "
   ]
  },
  {
   "cell_type": "code",
   "execution_count": 176,
   "metadata": {},
   "outputs": [
    {
     "ename": "SyntaxError",
     "evalue": "unmatched ']' (<ipython-input-176-13e90f032a17>, line 5)",
     "output_type": "error",
     "traceback": [
      "\u001b[1;36m  File \u001b[1;32m\"<ipython-input-176-13e90f032a17>\"\u001b[1;36m, line \u001b[1;32m5\u001b[0m\n\u001b[1;33m    total_attended = bootcamp_attendants[\"AttendedBootcamp\"] == \"Yes\"].sum()\u001b[0m\n\u001b[1;37m                                                                     ^\u001b[0m\n\u001b[1;31mSyntaxError\u001b[0m\u001b[1;31m:\u001b[0m unmatched ']'\n"
     ]
    }
   ],
   "source": [
    "# Calculate percentage of attendees with a school degree\n",
    "# = attendants_with_degrees.count()\n",
    "#attendants_with_degrees\n",
    "#percent_with_School_degree = attendants_with_degrees/\n",
    "total_attended = bootcamp_attendants.loc[bootcamp_attendants[\"AttendedBootcamp\"] == \"Yes\"].count()\n"
   ]
  },
  {
   "cell_type": "code",
   "execution_count": 165,
   "metadata": {},
   "outputs": [
    {
     "data": {
      "text/plain": [
       "'$63,740.51'"
      ]
     },
     "execution_count": 165,
     "metadata": {},
     "output_type": "execute_result"
    }
   ],
   "source": [
    "# Calculate average post-bootcamp salary\n",
    "average_salary = surveydata_df['BootcampPostSalary'].mean()\n",
    "average_salary = \"${:,.2f}\".format(average_salary)\n",
    "average_salary"
   ]
  },
  {
   "cell_type": "code",
   "execution_count": 67,
   "metadata": {},
   "outputs": [],
   "source": [
    "# Create a new table consolodating above calculations\n",
    "#Summary_df = pd.DataFrame({\"Average Post salary\": [average_salary],\n",
    "                                    \"\": [total_gender], \"Total Number of Purchases\": [total_purchase], \"Total Revenue\": [total_revenue]})\n",
    "#Summary_df.head()"
   ]
  },
  {
   "cell_type": "code",
   "execution_count": null,
   "metadata": {},
   "outputs": [],
   "source": [
    "#bootcampdf = pd.DataFrame({'Total Respondents': [respondents], 'Avg. Age of Attendees': [aveage],'Number of Bootcamp Attendees': [attendees], 'Percentage Attended Bootcamp': [didattend],'Holds a Degree': [wdegreescount], 'Male %': [malepct], 'Female %': [femalepct], 'Non-Gender Specific %': [othpct],\"Avg Post-Bootcamp Salary\": [salary]})\n",
    "\n",
    "#bootcampdf"
   ]
  },
  {
   "cell_type": "code",
   "execution_count": null,
   "metadata": {
    "collapsed": true
   },
   "outputs": [],
   "source": [
    "# Improve formatting before outputting spreadsheet"
   ]
  },
  {
   "cell_type": "code",
   "execution_count": null,
   "metadata": {
    "collapsed": true
   },
   "outputs": [],
   "source": [
    "# Export to Excel\n",
    "#bootcampdf.to_excel(\"D:\\\\pandas-challenge\\\\Projects\\\\BootcampSurvey.xlsx\")"
   ]
  }
 ],
 "metadata": {
  "anaconda-cloud": {},
  "kernelspec": {
   "display_name": "Python 3",
   "language": "python",
   "name": "python3"
  },
  "language_info": {
   "codemirror_mode": {
    "name": "ipython",
    "version": 3
   },
   "file_extension": ".py",
   "mimetype": "text/x-python",
   "name": "python",
   "nbconvert_exporter": "python",
   "pygments_lexer": "ipython3",
   "version": "3.8.3"
  }
 },
 "nbformat": 4,
 "nbformat_minor": 2
}
